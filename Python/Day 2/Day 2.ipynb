{
 "cells": [
  {
   "cell_type": "markdown",
   "metadata": {},
   "source": [
    "## * Problem statement 1:"
   ]
  },
  {
   "cell_type": "markdown",
   "metadata": {},
   "source": [
    "### Write a program that calculates the cost of an order. "
   ]
  },
  {
   "cell_type": "code",
   "execution_count": 2,
   "metadata": {},
   "outputs": [
    {
     "name": "stdout",
     "output_type": "stream",
     "text": [
      "Enter how many pounds of coffee would like to order: 1\n",
      "The total cost of your order is : 12.86\n"
     ]
    }
   ],
   "source": [
    "pounds = int(input(\"Enter how many pounds of coffee would like to order: \"))\n",
    "cost = ((10.50 + .86) * pounds) + 1.50 \n",
    "print(\"The total cost of your order is :\", round(cost,2))"
   ]
  },
  {
   "cell_type": "markdown",
   "metadata": {},
   "source": [
    "## * Problem statement 2:"
   ]
  },
  {
   "cell_type": "markdown",
   "metadata": {},
   "source": [
    "### Write a program that determines the distance to a lightning strike based on the time elapsed between the flash and the sound of thunder."
   ]
  },
  {
   "cell_type": "code",
   "execution_count": 4,
   "metadata": {},
   "outputs": [
    {
     "name": "stdout",
     "output_type": "stream",
     "text": [
      "What is the time (in seconds) elapsed between the flash and the  sound of thunder in seconds? 60\n"
     ]
    }
   ],
   "source": [
    "time = int(input(\"What is the time (in seconds) elapsed between the flash and the \"+\" sound of thunder in seconds? \"))\n",
    "\n"
   ]
  },
  {
   "cell_type": "code",
   "execution_count": 5,
   "metadata": {},
   "outputs": [],
   "source": [
    "distance = 1100 * time \n",
    "miles= distance // 5280\n",
    "feet = distance % 5280"
   ]
  },
  {
   "cell_type": "code",
   "execution_count": 6,
   "metadata": {},
   "outputs": [
    {
     "name": "stdout",
     "output_type": "stream",
     "text": [
      "The distance to a lightning strike is  12  miles and 2640  feet from the current position\n"
     ]
    }
   ],
   "source": [
    "print(\"The distance to a lightning strike is \", miles,\" miles and\", feet,\" feet from the current position\")"
   ]
  },
  {
   "cell_type": "code",
   "execution_count": null,
   "metadata": {},
   "outputs": [],
   "source": []
  }
 ],
 "metadata": {
  "kernelspec": {
   "display_name": "Python 3",
   "language": "python",
   "name": "python3"
  },
  "language_info": {
   "codemirror_mode": {
    "name": "ipython",
    "version": 3
   },
   "file_extension": ".py",
   "mimetype": "text/x-python",
   "name": "python",
   "nbconvert_exporter": "python",
   "pygments_lexer": "ipython3",
   "version": "3.6.5"
  }
 },
 "nbformat": 4,
 "nbformat_minor": 2
}
