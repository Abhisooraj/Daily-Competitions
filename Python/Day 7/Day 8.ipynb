{
 "cells": [
  {
   "cell_type": "markdown",
   "metadata": {},
   "source": [
    "###### Heating and cooling degree days are measures used by utility companies to estimate energy requirements. If the average temperature for a day is below 60, then the number of degrees below 60 is added to the heating degree days. If the temperature is above 80, the amount over 80 is added to the cooling degree days. Write a program that accepts a sequence of average daily temperatures and computes the running total of cooling and heating degree days. The program should print these two totals after all the data has been processed. "
   ]
  },
  {
   "cell_type": "code",
   "execution_count": null,
   "metadata": {},
   "outputs": [
    {
     "name": "stdout",
     "output_type": "stream",
     "text": [
      "A program that calculate total cooling and heating degree days by accepting a sequence of average daily temperatures\n",
      "Enter number of days for evaluation:25\n",
      "For Day 1 :36\n",
      "For Day 2 :95\n",
      "For Day 3 :69\n",
      "For Day 4 :48\n",
      "For Day 5 :69\n",
      "For Day 6 :16\n",
      "For Day 7 :256\n"
     ]
    }
   ],
   "source": [
    "def main():\n",
    "    # objective of the program \n",
    "    print(\"A program that calculate total cooling and heating degree days by accepting a sequence of average daily temperatures\")\n",
    "    # Initialize the variables as zero at the beginning of the program\n",
    "    # hdd = heating degree days\n",
    "    # cdd= cooling degree days\n",
    "    # hot days\n",
    "    # cool days\n",
    "    hdd,cdd,hot,cool = 0,0,0,0    \n",
    "    # Accept the total number of days temperature the user wants to evaluate\n",
    "    days= int(input(\"Enter number of days for evaluation:\"))\n",
    "    x=0\n",
    "    date = 1\n",
    "    # Iterate the loop\n",
    "    while x < days:\n",
    "        # Accept the days temperatures        \n",
    "        temp = input(\"For Day {} :\".format(date))\n",
    "        temp = int(temp)\n",
    "        # tests the condition and follow the instructions\n",
    "        if temp > 80:\n",
    "            cdd = (temp-80)+cdd\n",
    "        if temp < 60:\n",
    "            hdd = (60-temp)+hdd\n",
    "        # increment the date and loop iteration variable          \n",
    "        date = date + 1\n",
    "        x+= 1\n",
    "    # print the result of the program     \n",
    "    print(\"In {} days, there\\'r total of {} Heating degree days and {} Cooling degree days.\".format(days,hdd,cdd))\n",
    "    \n",
    "main()"
   ]
  },
  {
   "cell_type": "markdown",
   "metadata": {},
   "source": [
    "###### With exception handling"
   ]
  },
  {
   "cell_type": "code",
   "execution_count": null,
   "metadata": {},
   "outputs": [],
   "source": [
    "def main():\n",
    "     # objective of the program \n",
    "    print(\"A program that calculate total cooling and heating degree days by accepting a sequence of average daily temperatures\")\n",
    "    # Initialize the variables as zero at the beginning of the program\n",
    "    # hdd = heating degree days\n",
    "    # cdd= cooling degree days\n",
    "    # hot days\n",
    "    # cool days\n",
    "    hdd,cdd,hot,cool = 0,0,0,0    \n",
    "    # Accept the total number of days temperature the user wants to evaluate\n",
    "    try:\n",
    "        days= int(input(\"Enter number of days for evaluation:\"))\n",
    "        x=0\n",
    "        date = 1\n",
    "        while x < days:\n",
    "            temp = input(\"For Day {} :\".format(date))\n",
    "            temp = int(temp)\n",
    "            # tests the condition and follow the instructions\n",
    "            if temp > 80:\n",
    "                cdd = (temp-80)+cdd\n",
    "            if temp < 60:\n",
    "                hdd = (60-temp)+hdd\n",
    "        # increment the date and loop iteration variable          \n",
    "            date = date + 1\n",
    "            x+= 1\n",
    "\n",
    "        # print the result of the program     \n",
    "        print(\"In {} days, there\\'r total of {} Heating degree days and {} Cooling degree days.\".format(days,hdd,cdd))\n",
    "\n",
    "    except ValueError:\n",
    "        print('Please correct your data.')\n",
    "    except:\n",
    "        print('Unknown error.')\n",
    "\n",
    "main()"
   ]
  },
  {
   "cell_type": "markdown",
   "metadata": {},
   "source": [
    "#### Modify the program to get its input from a file. "
   ]
  },
  {
   "cell_type": "code",
   "execution_count": 1,
   "metadata": {},
   "outputs": [],
   "source": [
    "def write_file():\n",
    "    print(\"\\nEnter number of days for evaluation:\")\n",
    "    with open (\"temperature_file.txt\", \"w\") as file:\n",
    "        file.write (input())"
   ]
  },
  {
   "cell_type": "code",
   "execution_count": 2,
   "metadata": {},
   "outputs": [],
   "source": [
    "def read_file():\n",
    "    with open(\"temperature_file.txt\", \"r\") as file:\n",
    "        data = file.read().replace(\"\\n\", \"\")\n",
    "    return data"
   ]
  },
  {
   "cell_type": "code",
   "execution_count": 3,
   "metadata": {},
   "outputs": [],
   "source": [
    "def process_temp():\n",
    "    # Initialize all these variables as zero at the beginning of the program\n",
    "    # hdd = heating degree days\n",
    "    # cdd= cooling degree days\n",
    "    # hot days\n",
    "    # cool days\n",
    "    hdd,cdd,hot,cool = 0,0,0,0\n",
    "    # Accept the total number of days temperature the user wants to evaluate\n",
    "    days= read_file()\n",
    "    x=0\n",
    "    date=1\n",
    "    # Iterate the loop\n",
    "    while x < int(days):\n",
    "        # Accept the days temperatures        \n",
    "        temp = input(\"For Day {} :\".format(date))\n",
    "        temp = int(temp)\n",
    "        # tests the condition and follow the instructions\n",
    "        if temp > 80:\n",
    "            cdd = (temp-80)+cdd\n",
    "        if temp < 60:\n",
    "            hdd = (60-temp)+hdd\n",
    "        # increment the date and loop iteration variable          \n",
    "        x+= 1\n",
    "        date +=1\n",
    "    return (print(\"In {} days, there\\'r total of {} Heating degree days and {} Cooling degree days.\".format(days,hdd,cdd)))"
   ]
  },
  {
   "cell_type": "code",
   "execution_count": 4,
   "metadata": {},
   "outputs": [
    {
     "name": "stdout",
     "output_type": "stream",
     "text": [
      "A program that calculate total cooling and heating degree days by accepting a sequence of average daily temperatures\n",
      "\n",
      "Enter number of days for evaluation:\n",
      "5\n",
      "For Day 1 :25\n",
      "For Day 2 :369\n",
      "For Day 3 :3546\n",
      "For Day 4 :225\n",
      "For Day 5 :365\n",
      "In 5 days, there'r total of 35 Heating degree days and 4185 Cooling degree days.\n"
     ]
    }
   ],
   "source": [
    "def main():\n",
    "    # objective of the program \n",
    "    print(\"A program that calculate total cooling and heating degree days by accepting a sequence of average daily temperatures\")\n",
    "    # A function call for function process temp\n",
    "    write_file()\n",
    "    process_temp()\n",
    "main()"
   ]
  },
  {
   "cell_type": "code",
   "execution_count": null,
   "metadata": {},
   "outputs": [],
   "source": []
  }
 ],
 "metadata": {
  "kernelspec": {
   "display_name": "Python 3",
   "language": "python",
   "name": "python3"
  },
  "language_info": {
   "codemirror_mode": {
    "name": "ipython",
    "version": 3
   },
   "file_extension": ".py",
   "mimetype": "text/x-python",
   "name": "python",
   "nbconvert_exporter": "python",
   "pygments_lexer": "ipython3",
   "version": "3.6.5"
  }
 },
 "nbformat": 4,
 "nbformat_minor": 2
}
