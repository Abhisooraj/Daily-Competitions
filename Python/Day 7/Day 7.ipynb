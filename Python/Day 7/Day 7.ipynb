{
 "cells": [
  {
   "cell_type": "markdown",
   "metadata": {},
   "source": [
    "###### Write a program that computes the fuel efficiency of a multi-leg journey. The program will first prompt for the starting odometer reading and then get information about a series of legs. For each leg, the user enters the current odometer reading and the amount of gas used (separated by a space). The user signals the end of the trip with a blank line. The program should print out the miles per gallon achieved on each leg and the total MPG for the trip"
   ]
  },
  {
   "cell_type": "code",
   "execution_count": 9,
   "metadata": {},
   "outputs": [
    {
     "name": "stdout",
     "output_type": "stream",
     "text": [
      "A python program to computes the fuel efficiency of a multi-leg journey.\n",
      " Enter the odometer reading at beginning 200\n",
      "\n",
      "Enter the odometer reading and fuel consumption for this leg of the trip, separated by a space: 2000 30\n",
      "Fuel efficiency for this leg: 60.0\n",
      "\n",
      "Fuel efficiency for entire trip: 60.0\n",
      "\n"
     ]
    }
   ],
   "source": [
    "def main():\n",
    "    # objective of the program \n",
    "    print(\"A python program to computes the fuel efficiency of a multi-leg journey.\")\n",
    "\n",
    "    # the starting odometer reading\n",
    "    odoStart = int(input(\" Enter the odometer reading at beginning \"))\n",
    "\n",
    "    # initialize total miles and total fuel consumed to zero\n",
    "    totel_miles = 0\n",
    "    total_fuel = 0\n",
    "\n",
    "    # get the next odometer reading and fuel consumption, separated by a space\n",
    "    odoFuel = input(\"\\nEnter the odometer reading and fuel consumption for this leg of the trip, separated by a space: \")\n",
    "\n",
    "    # loop while entered text is not empty\n",
    "    while odoFuel != '' and len(odoFuel.split()) == 2:\n",
    "        # split entered text into odometer reading and fuel consumption\n",
    "        strList = odoFuel.split()\n",
    "        odoNext = int(strList[0])\n",
    "        fuelNext = int(strList[1])\n",
    "\n",
    "        # print mpg for this leg (current - (start + total miles)) / fuel consumed\n",
    "        print(\"Fuel efficiency for this leg: {:.1f}\".format((odoNext - (odoStart + totel_miles)) / fuelNext))\n",
    "\n",
    "        # update total miles with current odometer reading - starting reading\n",
    "        totel_miles = odoNext - odoStart\n",
    "\n",
    "        # update total fuel consumed\n",
    "        total_fuel += fuelNext\n",
    "\n",
    "        break\n",
    "        # to get exit from the loop\n",
    "        \n",
    "    # print mpg (miles per gallon) for entire trip (total miles / total fuel)\n",
    "    if total_fuel > 0:\n",
    "        print(\"\\nFuel efficiency for entire trip: {:.1f}\\n\".format(totel_miles / total_fuel))\n",
    "    else:\n",
    "        print(\"\\nInsufficient data was entered.\")\n",
    "\n",
    "\n",
    "main()"
   ]
  },
  {
   "cell_type": "markdown",
   "metadata": {},
   "source": [
    "### Modify the previous program to get its input from a file. "
   ]
  },
  {
   "cell_type": "code",
   "execution_count": 8,
   "metadata": {},
   "outputs": [],
   "source": [
    "def write_file():\n",
    "    print(\"\\n Enter the odometer reading and fuel consumption for this leg of the trip, separated by a space: \\n \")\n",
    "    with open (\"mpg_file.txt\", \"w\") as file:\n",
    "        file.write (input())"
   ]
  },
  {
   "cell_type": "code",
   "execution_count": 9,
   "metadata": {},
   "outputs": [],
   "source": [
    "def read_file():\n",
    "    with open(\"mpg_file.txt\", \"r\") as file:\n",
    "        data = file.read().replace(\"\\n\", \"\")\n",
    "    return data"
   ]
  },
  {
   "cell_type": "code",
   "execution_count": 10,
   "metadata": {},
   "outputs": [],
   "source": [
    "def process_mpg():\n",
    "    odoStart = int(input(\"Enter the odometer reading at beginning\\n\"))\n",
    "    # initialize total miles and total fuel consumed to zero\n",
    "    totel_miles = 0\n",
    "    total_fuel = 0\n",
    "    odoFuel = read_file()\n",
    "    while odoFuel != '' and len(odoFuel.split()) == 2:\n",
    "        # split entered text into odometer reading and fuel consumption\n",
    "        strList = odoFuel.split()\n",
    "        odoNext = int(strList[0])\n",
    "        fuelNext = int(strList[1])\n",
    "\n",
    "        # print mpg for this leg (current - (start + total miles)) / fuel consumed\n",
    "        print(\"Fuel efficiency for this leg: {:.1f}\".format((odoNext - (odoStart + totel_miles)) \n",
    "        / fuelNext))\n",
    "\n",
    "        # update total miles with current odometer reading - starting reading\n",
    "        totel_miles = odoNext - odoStart\n",
    "\n",
    "        # update total fuel consumed\n",
    "        total_fuel += fuelNext\n",
    "\n",
    "        break\n",
    "        # to get exit from the loop\n",
    "        \n",
    "    # print mpg (miles per gallon) for entire trip (total miles / total fuel)\n",
    "    if total_fuel > 0:\n",
    "        print(\"\\n Fuel efficiency for entire trip: {:.1f}\\n\".format(totel_miles / total_fuel))\n",
    "    else:\n",
    "        print(\"\\n Insufficient data was entered.\")"
   ]
  },
  {
   "cell_type": "code",
   "execution_count": 11,
   "metadata": {},
   "outputs": [
    {
     "name": "stdout",
     "output_type": "stream",
     "text": [
      " A python program to computes the fuel efficiency of a multi-leg journey.\n",
      "\n",
      " Enter the odometer reading and fuel consumption for this leg of the trip, separated by a space: \n",
      " \n",
      "2000 30\n",
      "Enter the odometer reading at beginning\n",
      "200\n",
      "Fuel efficiency for this leg: 60.0\n",
      "\n",
      " Fuel efficiency for entire trip: 60.0\n",
      "\n"
     ]
    }
   ],
   "source": [
    "# version: python 3\n",
    "def main():\n",
    "    # objective of the program \n",
    "    print(\" A python program to computes the fuel efficiency of a multi-leg journey.\")\n",
    "    # the starting odometer reading\n",
    "#     odoStart = int(input(\" Enter the odometer reading at beginning \"))\n",
    "    \n",
    "    write_file()\n",
    "    # get input from text file \n",
    "    process_mpg()\n",
    "main()"
   ]
  },
  {
   "cell_type": "code",
   "execution_count": null,
   "metadata": {},
   "outputs": [],
   "source": []
  }
 ],
 "metadata": {
  "kernelspec": {
   "display_name": "Python 3",
   "language": "python",
   "name": "python3"
  },
  "language_info": {
   "codemirror_mode": {
    "name": "ipython",
    "version": 3
   },
   "file_extension": ".py",
   "mimetype": "text/x-python",
   "name": "python",
   "nbconvert_exporter": "python",
   "pygments_lexer": "ipython3",
   "version": "3.6.5"
  }
 },
 "nbformat": 4,
 "nbformat_minor": 2
}
