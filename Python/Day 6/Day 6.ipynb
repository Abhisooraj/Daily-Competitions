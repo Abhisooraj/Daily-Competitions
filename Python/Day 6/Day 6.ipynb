{
 "cells": [
  {
   "cell_type": "markdown",
   "metadata": {},
   "source": [
    "Write a program that uses a while loop to determine how long it takes\n",
    "for an investment to double at a given interest rate. The input will be an\n",
    "annualized interest rate, and the output is the number of years it takes an\n",
    "investment to double. Note: The amount of the initial investment does not\n",
    "matter; you can use $1. "
   ]
  },
  {
   "cell_type": "code",
   "execution_count": 3,
   "metadata": {},
   "outputs": [
    {
     "name": "stdout",
     "output_type": "stream",
     "text": [
      "This python program calculates how long it takes for an investment to double in size.\n",
      "Enter the annual interest rate: 5\n",
      "At the  5 % of interest the investment will be doubles in 15 years\n"
     ]
    }
   ],
   "source": [
    "def main():\n",
    "    print (\"This python program calculates how long it takes for an investment to double in size.\")\n",
    "    investment = 1\n",
    "    rate = int(input(\"Enter the annual interest rate: \"))\n",
    "    years = 0\n",
    "    value = investment\n",
    "    while value <= investment * 2 :\n",
    "        value = value + value * float(rate)/100\n",
    "        years = years + 1\n",
    "    print (\"At the \", rate, \"% of interest the investment will be doubles in\", years, \"years\")\n",
    "main()"
   ]
  },
  {
   "cell_type": "code",
   "execution_count": null,
   "metadata": {},
   "outputs": [],
   "source": []
  }
 ],
 "metadata": {
  "kernelspec": {
   "display_name": "Python 3",
   "language": "python",
   "name": "python3"
  },
  "language_info": {
   "codemirror_mode": {
    "name": "ipython",
    "version": 3
   },
   "file_extension": ".py",
   "mimetype": "text/x-python",
   "name": "python",
   "nbconvert_exporter": "python",
   "pygments_lexer": "ipython3",
   "version": "3.6.5"
  }
 },
 "nbformat": 4,
 "nbformat_minor": 2
}
