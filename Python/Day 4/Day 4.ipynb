{
 "cells": [
  {
   "cell_type": "markdown",
   "metadata": {},
   "source": [
    "## Problem Statement:"
   ]
  },
  {
   "cell_type": "markdown",
   "metadata": {},
   "source": [
    "### Write a program to determine the length of a ladder required to reach a given height when leaned against a house. The height and angle of the ladder are given as inputs.\n",
    "Note: The angle must be in radians."
   ]
  },
  {
   "cell_type": "code",
   "execution_count": 1,
   "metadata": {},
   "outputs": [],
   "source": [
    "from math import *"
   ]
  },
  {
   "cell_type": "code",
   "execution_count": 2,
   "metadata": {},
   "outputs": [
    {
     "name": "stdout",
     "output_type": "stream",
     "text": [
      "Enter the length: 10\n",
      "Enter the angle:  46\n"
     ]
    }
   ],
   "source": [
    "height = eval(input(\"Enter the length: \"))\n",
    "angle = eval(input(\"Enter the angle:  \"))"
   ]
  },
  {
   "cell_type": "code",
   "execution_count": 3,
   "metadata": {},
   "outputs": [
    {
     "name": "stdout",
     "output_type": "stream",
     "text": [
      "The length of the required ladder is  13.9016\n"
     ]
    }
   ],
   "source": [
    "angler = ((pi / 180) * angle)\n",
    "length = (height / sin(angler))\n",
    "print(\"The length of the required ladder is \", round(length,4))"
   ]
  },
  {
   "cell_type": "markdown",
   "metadata": {},
   "source": [
    "## Problem Statement 2:"
   ]
  },
  {
   "cell_type": "markdown",
   "metadata": {},
   "source": [
    "### Write a program that implements Newton's method. The program should prompt the user for the value to find the square root of (x) and the number of times to improve the guess."
   ]
  },
  {
   "cell_type": "code",
   "execution_count": 4,
   "metadata": {},
   "outputs": [
    {
     "name": "stdout",
     "output_type": "stream",
     "text": [
      "Enter the number for a square root: 81\n",
      "Enter the Guess for a square root: 8\n",
      "Enter the number of times The Newton's method will iterate: : 75\n"
     ]
    }
   ],
   "source": [
    "n=eval(input(\"Enter the number for a square root: \"))\n",
    "guess= int(input(\"Enter the Guess for a square root: \"))\n",
    "num= int(input(\"Enter the number of times The Newton's method will iterate: : \"))"
   ]
  },
  {
   "cell_type": "code",
   "execution_count": 5,
   "metadata": {},
   "outputs": [],
   "source": [
    "for i in range (num):\n",
    "    guess= (guess + num / guess)/2"
   ]
  },
  {
   "cell_type": "code",
   "execution_count": 6,
   "metadata": {},
   "outputs": [
    {
     "name": "stdout",
     "output_type": "stream",
     "text": [
      "The Actual square root of the value is:  9.0\n",
      "The predicted square root of the value is:  8.660254037844386\n"
     ]
    }
   ],
   "source": [
    "print(\"The Actual square root of the value is: \",sqrt(n))\n",
    "print(\"The predicted square root of the value is: \", guess)"
   ]
  },
  {
   "cell_type": "code",
   "execution_count": null,
   "metadata": {},
   "outputs": [],
   "source": []
  }
 ],
 "metadata": {
  "kernelspec": {
   "display_name": "Python 3",
   "language": "python",
   "name": "python3"
  },
  "language_info": {
   "codemirror_mode": {
    "name": "ipython",
    "version": 3
   },
   "file_extension": ".py",
   "mimetype": "text/x-python",
   "name": "python",
   "nbconvert_exporter": "python",
   "pygments_lexer": "ipython3",
   "version": "3.6.5"
  }
 },
 "nbformat": 4,
 "nbformat_minor": 2
}
