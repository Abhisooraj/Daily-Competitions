{
 "cells": [
  {
   "cell_type": "markdown",
   "metadata": {},
   "source": [
    "##  * Problem Statement 1:"
   ]
  },
  {
   "cell_type": "markdown",
   "metadata": {},
   "source": [
    "### Write a program that approximates the value of pi by summing the terms of this series: \n",
    "### 4/1- 4/3 + 4/5- 4/7 + 4/9- 4/11 + ..."
   ]
  },
  {
   "cell_type": "code",
   "execution_count": 1,
   "metadata": {},
   "outputs": [],
   "source": [
    "from math import pi"
   ]
  },
  {
   "cell_type": "code",
   "execution_count": 2,
   "metadata": {},
   "outputs": [
    {
     "name": "stdout",
     "output_type": "stream",
     "text": [
      "Enter the total number for a finite sum: 10\n"
     ]
    }
   ],
   "source": [
    "n=eval(input(\"Enter the total number for a finite sum: \"))\n",
    "total=0"
   ]
  },
  {
   "cell_type": "code",
   "execution_count": 3,
   "metadata": {},
   "outputs": [],
   "source": [
    "for i in range (n):\n",
    "    total=total + 4 *(-1)**i/(2*i+1)"
   ]
  },
  {
   "cell_type": "code",
   "execution_count": 4,
   "metadata": {},
   "outputs": [
    {
     "name": "stdout",
     "output_type": "stream",
     "text": [
      "The value of evaluated  pi is:  3.0418\n",
      "The value of actual pi is:  3.1416\n",
      "The Difference from the value of pi is:  0.0998\n"
     ]
    }
   ],
   "source": [
    "print(\"The value of evaluated  pi is: \",round(total,4))\n",
    "print(\"The value of actual pi is: \",round(pi,4))\n",
    "print(\"The Difference from the value of pi is: \",round((pi-total),4))"
   ]
  },
  {
   "cell_type": "markdown",
   "metadata": {},
   "source": [
    "## * Problem statement 2:"
   ]
  },
  {
   "cell_type": "markdown",
   "metadata": {},
   "source": [
    "### Write a program that prompts the user for a 4-digit year and then outputs the value of the epact. "
   ]
  },
  {
   "cell_type": "code",
   "execution_count": 5,
   "metadata": {},
   "outputs": [
    {
     "name": "stdout",
     "output_type": "stream",
     "text": [
      "Input a 4 digit year for calculating the value of epact: 2020\n"
     ]
    }
   ],
   "source": [
    "year = int(input(\"Input a 4 digit year for calculating the value of epact: \"))"
   ]
  },
  {
   "cell_type": "code",
   "execution_count": 6,
   "metadata": {},
   "outputs": [
    {
     "name": "stdout",
     "output_type": "stream",
     "text": [
      "The Gregorian epact is:  5\n"
     ]
    }
   ],
   "source": [
    "c = year//100\n",
    "epact = (8 + (c//4) - c + ((8*c +13)//25) + 11*(year%19))%30\n",
    "print(\"The Gregorian epact is: \", epact)"
   ]
  },
  {
   "cell_type": "code",
   "execution_count": null,
   "metadata": {},
   "outputs": [],
   "source": []
  }
 ],
 "metadata": {
  "kernelspec": {
   "display_name": "Python 3",
   "language": "python",
   "name": "python3"
  },
  "language_info": {
   "codemirror_mode": {
    "name": "ipython",
    "version": 3
   },
   "file_extension": ".py",
   "mimetype": "text/x-python",
   "name": "python",
   "nbconvert_exporter": "python",
   "pygments_lexer": "ipython3",
   "version": "3.6.5"
  }
 },
 "nbformat": 4,
 "nbformat_minor": 2
}
